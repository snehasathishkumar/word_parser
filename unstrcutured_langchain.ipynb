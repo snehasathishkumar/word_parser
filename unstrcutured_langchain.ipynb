{
 "cells": [
  {
   "cell_type": "markdown",
   "metadata": {},
   "source": [
    "Using unstrucrured on a docker and trying the "
   ]
  },
  {
   "cell_type": "code",
   "execution_count": 104,
   "metadata": {},
   "outputs": [],
   "source": [
    "from langchain_community.document_loaders import UnstructuredWordDocumentLoader"
   ]
  },
  {
   "cell_type": "code",
   "execution_count": 105,
   "metadata": {},
   "outputs": [],
   "source": [
    "loader = UnstructuredWordDocumentLoader(\n",
    "\n",
    "    \"sample_document.docx\", mode=\"elements\", strategy=\"fast\",\n",
    "\n",
    ") \n",
    "\n",
    "docs = loader.load()"
   ]
  },
  {
   "cell_type": "code",
   "execution_count": 106,
   "metadata": {},
   "outputs": [
    {
     "data": {
      "text/plain": [
       "[Document(metadata={'source': 'sample_document.docx', 'category_depth': 0, 'filename': 'sample_document.docx', 'last_modified': '2024-07-16T10:11:43', 'page_number': 1, 'languages': ['eng'], 'filetype': 'application/vnd.openxmlformats-officedocument.wordprocessingml.document', 'category': 'Title'}, page_content='Sample Document with Tables'),\n",
       " Document(metadata={'source': 'sample_document.docx', 'category_depth': 0, 'filename': 'sample_document.docx', 'last_modified': '2024-07-16T10:11:43', 'page_number': 1, 'languages': ['eng'], 'parent_id': '2c137fe287ccbe594a6cf4d3ce799169', 'filetype': 'application/vnd.openxmlformats-officedocument.wordprocessingml.document', 'category': 'NarrativeText'}, page_content='This document contains sample tables for testing purposes.'),\n",
       " Document(metadata={'source': 'sample_document.docx', 'filename': 'sample_document.docx', 'last_modified': '2024-07-16T10:11:43', 'page_number': 1, 'text_as_html': '<table>\\n<thead>\\n<tr><th style=\"text-align: right;\">  Sl. No</th><th>Name    </th><th>Role        </th></tr>\\n</thead>\\n<tbody>\\n<tr><td style=\"text-align: right;\">       1</td><td>Karthick</td><td>AI Engineer </td></tr>\\n<tr><td style=\"text-align: right;\">       2</td><td>Sneha   </td><td>Data analyst</td></tr>\\n</tbody>\\n</table>', 'languages': ['eng'], 'parent_id': '2c137fe287ccbe594a6cf4d3ce799169', 'filetype': 'application/vnd.openxmlformats-officedocument.wordprocessingml.document', 'category': 'Table'}, page_content='Sl. No Name Role 1. Karthick AI Engineer 2. Sneha Data analyst'),\n",
       " Document(metadata={'source': 'sample_document.docx', 'category_depth': 0, 'filename': 'sample_document.docx', 'last_modified': '2024-07-16T10:11:43', 'page_number': 1, 'languages': ['eng'], 'parent_id': '2c137fe287ccbe594a6cf4d3ce799169', 'filetype': 'application/vnd.openxmlformats-officedocument.wordprocessingml.document', 'category': 'NarrativeText'}, page_content='This is some text below Table 1 to ensure it does not span multiple pages.'),\n",
       " Document(metadata={'source': 'sample_document.docx', 'filename': 'sample_document.docx', 'last_modified': '2024-07-16T10:11:43', 'page_number': 1, 'text_as_html': '<table>\\n<thead>\\n<tr><th>EMPID  </th><th>Name  </th><th style=\"text-align: right;\">  salary</th></tr>\\n</thead>\\n<tbody>\\n<tr><td>       </td><td>123abc</td><td style=\"text-align: right;\">      10</td></tr>\\n<tr><td>       </td><td>Def   </td><td style=\"text-align: right;\">      23</td></tr>\\n<tr><td>       </td><td>Efg   </td><td style=\"text-align: right;\">    3345</td></tr>\\n<tr><td>       </td><td>Hij   </td><td style=\"text-align: right;\">     345</td></tr>\\n<tr><td>       </td><td>Klm   </td><td style=\"text-align: right;\">     345</td></tr>\\n<tr><td>       </td><td>Nop   </td><td style=\"text-align: right;\">       6</td></tr>\\n<tr><td>       </td><td>Qrs   </td><td style=\"text-align: right;\">       3</td></tr>\\n<tr><td>       </td><td>Tuv   </td><td style=\"text-align: right;\">       3</td></tr>\\n<tr><td>       </td><td>Wxy   </td><td style=\"text-align: right;\">      46</td></tr>\\n<tr><td>       </td><td>Zab   </td><td style=\"text-align: right;\">     555</td></tr>\\n<tr><td>       </td><td>Cde   </td><td style=\"text-align: right;\">       5</td></tr>\\n<tr><td>       </td><td>Fgh   </td><td style=\"text-align: right;\">     577</td></tr>\\n<tr><td>       </td><td>Ijk   </td><td style=\"text-align: right;\">     347</td></tr>\\n<tr><td>       </td><td>Lmn   </td><td style=\"text-align: right;\">    3456</td></tr>\\n<tr><td>       </td><td>Opq   </td><td style=\"text-align: right;\">      44</td></tr>\\n<tr><td>       </td><td>Rst   </td><td style=\"text-align: right;\">    3455</td></tr>\\n<tr><td>       </td><td>Uvw   </td><td style=\"text-align: right;\">      66</td></tr>\\n<tr><td>       </td><td>Xyz   </td><td style=\"text-align: right;\">     345</td></tr>\\n<tr><td>       </td><td>abc   </td><td style=\"text-align: right;\">   45676</td></tr>\\n</tbody>\\n</table>', 'languages': ['eng'], 'parent_id': '2c137fe287ccbe594a6cf4d3ce799169', 'filetype': 'application/vnd.openxmlformats-officedocument.wordprocessingml.document', 'category': 'Table'}, page_content='EMPID Name salary 123abc 10 Def 23 Efg 3345 Hij 345 Klm 345 Nop 6 Qrs 3 Tuv 3 Wxy 46 Zab 555 Cde 5 Fgh 577 Ijk 347 Lmn 3456 Opq 44 Rst 3455 Uvw 66 Xyz 345 abc 45676'),\n",
       " Document(metadata={'source': 'sample_document.docx', 'category_depth': 0, 'filename': 'sample_document.docx', 'last_modified': '2024-07-16T10:11:43', 'page_number': 1, 'languages': ['eng'], 'parent_id': '2c137fe287ccbe594a6cf4d3ce799169', 'filetype': 'application/vnd.openxmlformats-officedocument.wordprocessingml.document', 'category': 'NarrativeText'}, page_content='This is some text below Table 2 to ensure it does not span multiple pages.'),\n",
       " Document(metadata={'source': 'sample_document.docx', 'filename': 'sample_document.docx', 'last_modified': '2024-07-16T10:11:43', 'page_number': 1, 'text_as_html': '<table>\\n<thead>\\n<tr><th>Sl. No.  </th><th>Name              </th><th>Role                </th></tr>\\n</thead>\\n<tbody>\\n<tr><td>         </td><td>Virat Kohli       </td><td>Batsman             </td></tr>\\n<tr><td>         </td><td>Steve Smith       </td><td>Batsman             </td></tr>\\n<tr><td>         </td><td>Kane Williamson   </td><td>Batsman             </td></tr>\\n<tr><td>         </td><td>Joe Root          </td><td>Batsman             </td></tr>\\n<tr><td>         </td><td>Babar Azam        </td><td>Batsman             </td></tr>\\n<tr><td>         </td><td>Rohit Sharma      </td><td>Batsman             </td></tr>\\n<tr><td>         </td><td>David Warner      </td><td>Batsman             </td></tr>\\n<tr><td>         </td><td>AB de Villiers    </td><td>Batsman/Wicketkeeper</td></tr>\\n<tr><td>         </td><td>Ben Stokes        </td><td>All-rounder         </td></tr>\\n<tr><td>         </td><td>Pat Cummins       </td><td>Bowler              </td></tr>\\n<tr><td>         </td><td>Jasprit Bumrah    </td><td>Bowler              </td></tr>\\n<tr><td>         </td><td>Kagiso Rabada     </td><td>Bowler              </td></tr>\\n<tr><td>         </td><td>Trent Boult       </td><td>Bowler              </td></tr>\\n<tr><td>         </td><td>Shaheen Afridi    </td><td>Bowler              </td></tr>\\n<tr><td>         </td><td>Marnus Labuschagne</td><td>Batsman             </td></tr>\\n<tr><td>         </td><td>Rishabh Pant      </td><td>Batsman/Wicketkeeper</td></tr>\\n<tr><td>         </td><td>Shakib Al Hasan   </td><td>All-rounder         </td></tr>\\n<tr><td>         </td><td>Ravindra Jadeja   </td><td>All-rounder         </td></tr>\\n<tr><td>         </td><td>Jason Holder      </td><td>All-rounder         </td></tr>\\n<tr><td>         </td><td>Quinton de Kock   </td><td>Batsman/Wicketkeeper</td></tr>\\n<tr><td>         </td><td>KL Rahul          </td><td>Batsman             </td></tr>\\n<tr><td>         </td><td>Aaron Finch       </td><td>Batsman             </td></tr>\\n<tr><td>         </td><td>Jos Buttler       </td><td>Batsman/Wicketkeeper</td></tr>\\n<tr><td>         </td><td>Shubman Gill      </td><td>Batsman             </td></tr>\\n<tr><td>         </td><td>Rashid Khan       </td><td>Bowler              </td></tr>\\n<tr><td>         </td><td>Andre Russell     </td><td>All-rounder         </td></tr>\\n<tr><td>         </td><td>Chris Gayle       </td><td>Batsman             </td></tr>\\n<tr><td>         </td><td>Faf du Plessis    </td><td>Batsman             </td></tr>\\n<tr><td>         </td><td>Mitchell Starc    </td><td>Bowler              </td></tr>\\n</tbody>\\n</table>', 'languages': ['eng'], 'parent_id': '2c137fe287ccbe594a6cf4d3ce799169', 'filetype': 'application/vnd.openxmlformats-officedocument.wordprocessingml.document', 'category': 'Table'}, page_content='Sl. No. Name Role Virat Kohli Batsman Steve Smith Batsman Kane Williamson Batsman Joe Root Batsman Babar Azam Batsman Rohit Sharma Batsman David Warner Batsman AB de Villiers Batsman/Wicketkeeper Ben Stokes All-rounder Pat Cummins Bowler Jasprit Bumrah Bowler Kagiso Rabada Bowler Trent Boult Bowler Shaheen Afridi Bowler Marnus Labuschagne Batsman Rishabh Pant Batsman/Wicketkeeper Shakib Al Hasan All-rounder Ravindra Jadeja All-rounder Jason Holder All-rounder Quinton de Kock Batsman/Wicketkeeper KL Rahul Batsman Aaron Finch Batsman Jos Buttler Batsman/Wicketkeeper Shubman Gill Batsman Rashid Khan Bowler Andre Russell All-rounder Chris Gayle Batsman Faf du Plessis Batsman Mitchell Starc Bowler'),\n",
       " Document(metadata={'source': 'sample_document.docx', 'category_depth': 0, 'filename': 'sample_document.docx', 'last_modified': '2024-07-16T10:11:43', 'page_number': 1, 'languages': ['eng'], 'parent_id': '2c137fe287ccbe594a6cf4d3ce799169', 'filetype': 'application/vnd.openxmlformats-officedocument.wordprocessingml.document', 'category': 'NarrativeText'}, page_content='This is some text below Table 3 to ensure it does not span multiple pages.')]"
      ]
     },
     "execution_count": 106,
     "metadata": {},
     "output_type": "execute_result"
    }
   ],
   "source": [
    "docs"
   ]
  },
  {
   "cell_type": "code",
   "execution_count": 107,
   "metadata": {},
   "outputs": [
    {
     "name": "stdout",
     "output_type": "stream",
     "text": [
      "<table>\n",
      "<thead>\n",
      "<tr><th style=\"text-align: right;\">  Sl. No</th><th>Name    </th><th>Role        </th></tr>\n",
      "</thead>\n",
      "<tbody>\n",
      "<tr><td style=\"text-align: right;\">       1</td><td>Karthick</td><td>AI Engineer </td></tr>\n",
      "<tr><td style=\"text-align: right;\">       2</td><td>Sneha   </td><td>Data analyst</td></tr>\n",
      "</tbody>\n",
      "</table>\n",
      "<table>\n",
      "<thead>\n",
      "<tr><th>EMPID  </th><th>Name  </th><th style=\"text-align: right;\">  salary</th></tr>\n",
      "</thead>\n",
      "<tbody>\n",
      "<tr><td>       </td><td>123abc</td><td style=\"text-align: right;\">      10</td></tr>\n",
      "<tr><td>       </td><td>Def   </td><td style=\"text-align: right;\">      23</td></tr>\n",
      "<tr><td>       </td><td>Efg   </td><td style=\"text-align: right;\">    3345</td></tr>\n",
      "<tr><td>       </td><td>Hij   </td><td style=\"text-align: right;\">     345</td></tr>\n",
      "<tr><td>       </td><td>Klm   </td><td style=\"text-align: right;\">     345</td></tr>\n",
      "<tr><td>       </td><td>Nop   </td><td style=\"text-align: right;\">       6</td></tr>\n",
      "<tr><td>       </td><td>Qrs   </td><td style=\"text-align: right;\">       3</td></tr>\n",
      "<tr><td>       </td><td>Tuv   </td><td style=\"text-align: right;\">       3</td></tr>\n",
      "<tr><td>       </td><td>Wxy   </td><td style=\"text-align: right;\">      46</td></tr>\n",
      "<tr><td>       </td><td>Zab   </td><td style=\"text-align: right;\">     555</td></tr>\n",
      "<tr><td>       </td><td>Cde   </td><td style=\"text-align: right;\">       5</td></tr>\n",
      "<tr><td>       </td><td>Fgh   </td><td style=\"text-align: right;\">     577</td></tr>\n",
      "<tr><td>       </td><td>Ijk   </td><td style=\"text-align: right;\">     347</td></tr>\n",
      "<tr><td>       </td><td>Lmn   </td><td style=\"text-align: right;\">    3456</td></tr>\n",
      "<tr><td>       </td><td>Opq   </td><td style=\"text-align: right;\">      44</td></tr>\n",
      "<tr><td>       </td><td>Rst   </td><td style=\"text-align: right;\">    3455</td></tr>\n",
      "<tr><td>       </td><td>Uvw   </td><td style=\"text-align: right;\">      66</td></tr>\n",
      "<tr><td>       </td><td>Xyz   </td><td style=\"text-align: right;\">     345</td></tr>\n",
      "<tr><td>       </td><td>abc   </td><td style=\"text-align: right;\">   45676</td></tr>\n",
      "</tbody>\n",
      "</table>\n",
      "<table>\n",
      "<thead>\n",
      "<tr><th>Sl. No.  </th><th>Name              </th><th>Role                </th></tr>\n",
      "</thead>\n",
      "<tbody>\n",
      "<tr><td>         </td><td>Virat Kohli       </td><td>Batsman             </td></tr>\n",
      "<tr><td>         </td><td>Steve Smith       </td><td>Batsman             </td></tr>\n",
      "<tr><td>         </td><td>Kane Williamson   </td><td>Batsman             </td></tr>\n",
      "<tr><td>         </td><td>Joe Root          </td><td>Batsman             </td></tr>\n",
      "<tr><td>         </td><td>Babar Azam        </td><td>Batsman             </td></tr>\n",
      "<tr><td>         </td><td>Rohit Sharma      </td><td>Batsman             </td></tr>\n",
      "<tr><td>         </td><td>David Warner      </td><td>Batsman             </td></tr>\n",
      "<tr><td>         </td><td>AB de Villiers    </td><td>Batsman/Wicketkeeper</td></tr>\n",
      "<tr><td>         </td><td>Ben Stokes        </td><td>All-rounder         </td></tr>\n",
      "<tr><td>         </td><td>Pat Cummins       </td><td>Bowler              </td></tr>\n",
      "<tr><td>         </td><td>Jasprit Bumrah    </td><td>Bowler              </td></tr>\n",
      "<tr><td>         </td><td>Kagiso Rabada     </td><td>Bowler              </td></tr>\n",
      "<tr><td>         </td><td>Trent Boult       </td><td>Bowler              </td></tr>\n",
      "<tr><td>         </td><td>Shaheen Afridi    </td><td>Bowler              </td></tr>\n",
      "<tr><td>         </td><td>Marnus Labuschagne</td><td>Batsman             </td></tr>\n",
      "<tr><td>         </td><td>Rishabh Pant      </td><td>Batsman/Wicketkeeper</td></tr>\n",
      "<tr><td>         </td><td>Shakib Al Hasan   </td><td>All-rounder         </td></tr>\n",
      "<tr><td>         </td><td>Ravindra Jadeja   </td><td>All-rounder         </td></tr>\n",
      "<tr><td>         </td><td>Jason Holder      </td><td>All-rounder         </td></tr>\n",
      "<tr><td>         </td><td>Quinton de Kock   </td><td>Batsman/Wicketkeeper</td></tr>\n",
      "<tr><td>         </td><td>KL Rahul          </td><td>Batsman             </td></tr>\n",
      "<tr><td>         </td><td>Aaron Finch       </td><td>Batsman             </td></tr>\n",
      "<tr><td>         </td><td>Jos Buttler       </td><td>Batsman/Wicketkeeper</td></tr>\n",
      "<tr><td>         </td><td>Shubman Gill      </td><td>Batsman             </td></tr>\n",
      "<tr><td>         </td><td>Rashid Khan       </td><td>Bowler              </td></tr>\n",
      "<tr><td>         </td><td>Andre Russell     </td><td>All-rounder         </td></tr>\n",
      "<tr><td>         </td><td>Chris Gayle       </td><td>Batsman             </td></tr>\n",
      "<tr><td>         </td><td>Faf du Plessis    </td><td>Batsman             </td></tr>\n",
      "<tr><td>         </td><td>Mitchell Starc    </td><td>Bowler              </td></tr>\n",
      "</tbody>\n",
      "</table>\n"
     ]
    }
   ],
   "source": [
    "for doc in docs:\n",
    "    if doc.metadata['category'] == 'Table':\n",
    "        print(doc.metadata['text_as_html'])"
   ]
  },
  {
   "cell_type": "markdown",
   "metadata": {},
   "source": [
    "Using API initially to test the efficiency of Unstructured on word files"
   ]
  },
  {
   "cell_type": "code",
   "execution_count": 74,
   "metadata": {},
   "outputs": [],
   "source": [
    "# from langchain_community.document_loaders import UnstructuredAPIFileLoader\n",
    "# from dotenv import get_key\n",
    "\n",
    "# filenames = [\"sample_document.docx\"]\n",
    "\n",
    "# loader = UnstructuredAPIFileLoader(\n",
    "#     file_path=filenames[0],\n",
    "#     api_key=get_key('.env', 'UNSTRUCTURED_API_KEY'),\n",
    "# )\n",
    "\n",
    "# docs = loader.load()\n",
    "# docs[0]"
   ]
  },
  {
   "cell_type": "code",
   "execution_count": 93,
   "metadata": {},
   "outputs": [],
   "source": [
    "# for doc in docs:\n",
    "#     if doc.metadata['category'] == 'Table':\n",
    "#         doc.page_content = doc.metadata['text_as_html']"
   ]
  },
  {
   "cell_type": "code",
   "execution_count": 94,
   "metadata": {},
   "outputs": [
    {
     "data": {
      "text/plain": [
       "[Document(metadata={'source': 'sample_document.docx', 'category_depth': 0, 'filename': 'sample_document.docx', 'last_modified': '2024-07-16T10:11:43', 'page_number': 1, 'languages': ['eng'], 'filetype': 'application/vnd.openxmlformats-officedocument.wordprocessingml.document', 'category': 'Title'}, page_content='Sample Document with Tables'),\n",
       " Document(metadata={'source': 'sample_document.docx', 'category_depth': 0, 'filename': 'sample_document.docx', 'last_modified': '2024-07-16T10:11:43', 'page_number': 1, 'languages': ['eng'], 'parent_id': '2c137fe287ccbe594a6cf4d3ce799169', 'filetype': 'application/vnd.openxmlformats-officedocument.wordprocessingml.document', 'category': 'NarrativeText'}, page_content='This document contains sample tables for testing purposes.'),\n",
       " Document(metadata={'source': 'sample_document.docx', 'filename': 'sample_document.docx', 'last_modified': '2024-07-16T10:11:43', 'page_number': 1, 'text_as_html': '<table>\\n<thead>\\n<tr><th style=\"text-align: right;\">  Sl. No</th><th>Name    </th><th>Role        </th></tr>\\n</thead>\\n<tbody>\\n<tr><td style=\"text-align: right;\">       1</td><td>Karthick</td><td>AI Engineer </td></tr>\\n<tr><td style=\"text-align: right;\">       2</td><td>Sneha   </td><td>Data analyst</td></tr>\\n</tbody>\\n</table>', 'languages': ['eng'], 'parent_id': '2c137fe287ccbe594a6cf4d3ce799169', 'filetype': 'application/vnd.openxmlformats-officedocument.wordprocessingml.document', 'category': 'Table'}, page_content='<table>\\n<thead>\\n<tr><th style=\"text-align: right;\">  Sl. No</th><th>Name    </th><th>Role        </th></tr>\\n</thead>\\n<tbody>\\n<tr><td style=\"text-align: right;\">       1</td><td>Karthick</td><td>AI Engineer </td></tr>\\n<tr><td style=\"text-align: right;\">       2</td><td>Sneha   </td><td>Data analyst</td></tr>\\n</tbody>\\n</table>'),\n",
       " Document(metadata={'source': 'sample_document.docx', 'category_depth': 0, 'filename': 'sample_document.docx', 'last_modified': '2024-07-16T10:11:43', 'page_number': 1, 'languages': ['eng'], 'parent_id': '2c137fe287ccbe594a6cf4d3ce799169', 'filetype': 'application/vnd.openxmlformats-officedocument.wordprocessingml.document', 'category': 'NarrativeText'}, page_content='This is some text below Table 1 to ensure it does not span multiple pages.'),\n",
       " Document(metadata={'source': 'sample_document.docx', 'filename': 'sample_document.docx', 'last_modified': '2024-07-16T10:11:43', 'page_number': 1, 'text_as_html': '<table>\\n<thead>\\n<tr><th>EMPID  </th><th>Name  </th><th style=\"text-align: right;\">  salary</th></tr>\\n</thead>\\n<tbody>\\n<tr><td>       </td><td>123abc</td><td style=\"text-align: right;\">      10</td></tr>\\n<tr><td>       </td><td>Def   </td><td style=\"text-align: right;\">      23</td></tr>\\n<tr><td>       </td><td>Efg   </td><td style=\"text-align: right;\">    3345</td></tr>\\n<tr><td>       </td><td>Hij   </td><td style=\"text-align: right;\">     345</td></tr>\\n<tr><td>       </td><td>Klm   </td><td style=\"text-align: right;\">     345</td></tr>\\n<tr><td>       </td><td>Nop   </td><td style=\"text-align: right;\">       6</td></tr>\\n<tr><td>       </td><td>Qrs   </td><td style=\"text-align: right;\">       3</td></tr>\\n<tr><td>       </td><td>Tuv   </td><td style=\"text-align: right;\">       3</td></tr>\\n<tr><td>       </td><td>Wxy   </td><td style=\"text-align: right;\">      46</td></tr>\\n<tr><td>       </td><td>Zab   </td><td style=\"text-align: right;\">     555</td></tr>\\n<tr><td>       </td><td>Cde   </td><td style=\"text-align: right;\">       5</td></tr>\\n<tr><td>       </td><td>Fgh   </td><td style=\"text-align: right;\">     577</td></tr>\\n<tr><td>       </td><td>Ijk   </td><td style=\"text-align: right;\">     347</td></tr>\\n<tr><td>       </td><td>Lmn   </td><td style=\"text-align: right;\">    3456</td></tr>\\n<tr><td>       </td><td>Opq   </td><td style=\"text-align: right;\">      44</td></tr>\\n<tr><td>       </td><td>Rst   </td><td style=\"text-align: right;\">    3455</td></tr>\\n<tr><td>       </td><td>Uvw   </td><td style=\"text-align: right;\">      66</td></tr>\\n<tr><td>       </td><td>Xyz   </td><td style=\"text-align: right;\">     345</td></tr>\\n<tr><td>       </td><td>abc   </td><td style=\"text-align: right;\">   45676</td></tr>\\n</tbody>\\n</table>', 'languages': ['eng'], 'parent_id': '2c137fe287ccbe594a6cf4d3ce799169', 'filetype': 'application/vnd.openxmlformats-officedocument.wordprocessingml.document', 'category': 'Table'}, page_content='<table>\\n<thead>\\n<tr><th>EMPID  </th><th>Name  </th><th style=\"text-align: right;\">  salary</th></tr>\\n</thead>\\n<tbody>\\n<tr><td>       </td><td>123abc</td><td style=\"text-align: right;\">      10</td></tr>\\n<tr><td>       </td><td>Def   </td><td style=\"text-align: right;\">      23</td></tr>\\n<tr><td>       </td><td>Efg   </td><td style=\"text-align: right;\">    3345</td></tr>\\n<tr><td>       </td><td>Hij   </td><td style=\"text-align: right;\">     345</td></tr>\\n<tr><td>       </td><td>Klm   </td><td style=\"text-align: right;\">     345</td></tr>\\n<tr><td>       </td><td>Nop   </td><td style=\"text-align: right;\">       6</td></tr>\\n<tr><td>       </td><td>Qrs   </td><td style=\"text-align: right;\">       3</td></tr>\\n<tr><td>       </td><td>Tuv   </td><td style=\"text-align: right;\">       3</td></tr>\\n<tr><td>       </td><td>Wxy   </td><td style=\"text-align: right;\">      46</td></tr>\\n<tr><td>       </td><td>Zab   </td><td style=\"text-align: right;\">     555</td></tr>\\n<tr><td>       </td><td>Cde   </td><td style=\"text-align: right;\">       5</td></tr>\\n<tr><td>       </td><td>Fgh   </td><td style=\"text-align: right;\">     577</td></tr>\\n<tr><td>       </td><td>Ijk   </td><td style=\"text-align: right;\">     347</td></tr>\\n<tr><td>       </td><td>Lmn   </td><td style=\"text-align: right;\">    3456</td></tr>\\n<tr><td>       </td><td>Opq   </td><td style=\"text-align: right;\">      44</td></tr>\\n<tr><td>       </td><td>Rst   </td><td style=\"text-align: right;\">    3455</td></tr>\\n<tr><td>       </td><td>Uvw   </td><td style=\"text-align: right;\">      66</td></tr>\\n<tr><td>       </td><td>Xyz   </td><td style=\"text-align: right;\">     345</td></tr>\\n<tr><td>       </td><td>abc   </td><td style=\"text-align: right;\">   45676</td></tr>\\n</tbody>\\n</table>'),\n",
       " Document(metadata={'source': 'sample_document.docx', 'category_depth': 0, 'filename': 'sample_document.docx', 'last_modified': '2024-07-16T10:11:43', 'page_number': 1, 'languages': ['eng'], 'parent_id': '2c137fe287ccbe594a6cf4d3ce799169', 'filetype': 'application/vnd.openxmlformats-officedocument.wordprocessingml.document', 'category': 'NarrativeText'}, page_content='This is some text below Table 2 to ensure it does not span multiple pages.'),\n",
       " Document(metadata={'source': 'sample_document.docx', 'filename': 'sample_document.docx', 'last_modified': '2024-07-16T10:11:43', 'page_number': 1, 'text_as_html': '<table>\\n<thead>\\n<tr><th>Sl. No.  </th><th>Name              </th><th>Role                </th></tr>\\n</thead>\\n<tbody>\\n<tr><td>         </td><td>Virat Kohli       </td><td>Batsman             </td></tr>\\n<tr><td>         </td><td>Steve Smith       </td><td>Batsman             </td></tr>\\n<tr><td>         </td><td>Kane Williamson   </td><td>Batsman             </td></tr>\\n<tr><td>         </td><td>Joe Root          </td><td>Batsman             </td></tr>\\n<tr><td>         </td><td>Babar Azam        </td><td>Batsman             </td></tr>\\n<tr><td>         </td><td>Rohit Sharma      </td><td>Batsman             </td></tr>\\n<tr><td>         </td><td>David Warner      </td><td>Batsman             </td></tr>\\n<tr><td>         </td><td>AB de Villiers    </td><td>Batsman/Wicketkeeper</td></tr>\\n<tr><td>         </td><td>Ben Stokes        </td><td>All-rounder         </td></tr>\\n<tr><td>         </td><td>Pat Cummins       </td><td>Bowler              </td></tr>\\n<tr><td>         </td><td>Jasprit Bumrah    </td><td>Bowler              </td></tr>\\n<tr><td>         </td><td>Kagiso Rabada     </td><td>Bowler              </td></tr>\\n<tr><td>         </td><td>Trent Boult       </td><td>Bowler              </td></tr>\\n<tr><td>         </td><td>Shaheen Afridi    </td><td>Bowler              </td></tr>\\n<tr><td>         </td><td>Marnus Labuschagne</td><td>Batsman             </td></tr>\\n<tr><td>         </td><td>Rishabh Pant      </td><td>Batsman/Wicketkeeper</td></tr>\\n<tr><td>         </td><td>Shakib Al Hasan   </td><td>All-rounder         </td></tr>\\n<tr><td>         </td><td>Ravindra Jadeja   </td><td>All-rounder         </td></tr>\\n<tr><td>         </td><td>Jason Holder      </td><td>All-rounder         </td></tr>\\n<tr><td>         </td><td>Quinton de Kock   </td><td>Batsman/Wicketkeeper</td></tr>\\n<tr><td>         </td><td>KL Rahul          </td><td>Batsman             </td></tr>\\n<tr><td>         </td><td>Aaron Finch       </td><td>Batsman             </td></tr>\\n<tr><td>         </td><td>Jos Buttler       </td><td>Batsman/Wicketkeeper</td></tr>\\n<tr><td>         </td><td>Shubman Gill      </td><td>Batsman             </td></tr>\\n<tr><td>         </td><td>Rashid Khan       </td><td>Bowler              </td></tr>\\n<tr><td>         </td><td>Andre Russell     </td><td>All-rounder         </td></tr>\\n<tr><td>         </td><td>Chris Gayle       </td><td>Batsman             </td></tr>\\n<tr><td>         </td><td>Faf du Plessis    </td><td>Batsman             </td></tr>\\n<tr><td>         </td><td>Mitchell Starc    </td><td>Bowler              </td></tr>\\n</tbody>\\n</table>', 'languages': ['eng'], 'parent_id': '2c137fe287ccbe594a6cf4d3ce799169', 'filetype': 'application/vnd.openxmlformats-officedocument.wordprocessingml.document', 'category': 'Table'}, page_content='<table>\\n<thead>\\n<tr><th>Sl. No.  </th><th>Name              </th><th>Role                </th></tr>\\n</thead>\\n<tbody>\\n<tr><td>         </td><td>Virat Kohli       </td><td>Batsman             </td></tr>\\n<tr><td>         </td><td>Steve Smith       </td><td>Batsman             </td></tr>\\n<tr><td>         </td><td>Kane Williamson   </td><td>Batsman             </td></tr>\\n<tr><td>         </td><td>Joe Root          </td><td>Batsman             </td></tr>\\n<tr><td>         </td><td>Babar Azam        </td><td>Batsman             </td></tr>\\n<tr><td>         </td><td>Rohit Sharma      </td><td>Batsman             </td></tr>\\n<tr><td>         </td><td>David Warner      </td><td>Batsman             </td></tr>\\n<tr><td>         </td><td>AB de Villiers    </td><td>Batsman/Wicketkeeper</td></tr>\\n<tr><td>         </td><td>Ben Stokes        </td><td>All-rounder         </td></tr>\\n<tr><td>         </td><td>Pat Cummins       </td><td>Bowler              </td></tr>\\n<tr><td>         </td><td>Jasprit Bumrah    </td><td>Bowler              </td></tr>\\n<tr><td>         </td><td>Kagiso Rabada     </td><td>Bowler              </td></tr>\\n<tr><td>         </td><td>Trent Boult       </td><td>Bowler              </td></tr>\\n<tr><td>         </td><td>Shaheen Afridi    </td><td>Bowler              </td></tr>\\n<tr><td>         </td><td>Marnus Labuschagne</td><td>Batsman             </td></tr>\\n<tr><td>         </td><td>Rishabh Pant      </td><td>Batsman/Wicketkeeper</td></tr>\\n<tr><td>         </td><td>Shakib Al Hasan   </td><td>All-rounder         </td></tr>\\n<tr><td>         </td><td>Ravindra Jadeja   </td><td>All-rounder         </td></tr>\\n<tr><td>         </td><td>Jason Holder      </td><td>All-rounder         </td></tr>\\n<tr><td>         </td><td>Quinton de Kock   </td><td>Batsman/Wicketkeeper</td></tr>\\n<tr><td>         </td><td>KL Rahul          </td><td>Batsman             </td></tr>\\n<tr><td>         </td><td>Aaron Finch       </td><td>Batsman             </td></tr>\\n<tr><td>         </td><td>Jos Buttler       </td><td>Batsman/Wicketkeeper</td></tr>\\n<tr><td>         </td><td>Shubman Gill      </td><td>Batsman             </td></tr>\\n<tr><td>         </td><td>Rashid Khan       </td><td>Bowler              </td></tr>\\n<tr><td>         </td><td>Andre Russell     </td><td>All-rounder         </td></tr>\\n<tr><td>         </td><td>Chris Gayle       </td><td>Batsman             </td></tr>\\n<tr><td>         </td><td>Faf du Plessis    </td><td>Batsman             </td></tr>\\n<tr><td>         </td><td>Mitchell Starc    </td><td>Bowler              </td></tr>\\n</tbody>\\n</table>'),\n",
       " Document(metadata={'source': 'sample_document.docx', 'category_depth': 0, 'filename': 'sample_document.docx', 'last_modified': '2024-07-16T10:11:43', 'page_number': 1, 'languages': ['eng'], 'parent_id': '2c137fe287ccbe594a6cf4d3ce799169', 'filetype': 'application/vnd.openxmlformats-officedocument.wordprocessingml.document', 'category': 'NarrativeText'}, page_content='This is some text below Table 3 to ensure it does not span multiple pages.')]"
      ]
     },
     "execution_count": 94,
     "metadata": {},
     "output_type": "execute_result"
    }
   ],
   "source": [
    "# docs"
   ]
  },
  {
   "cell_type": "code",
   "execution_count": 108,
   "metadata": {},
   "outputs": [
    {
     "name": "stdout",
     "output_type": "stream",
     "text": [
      "Sl. No Name Role 1. Karthick AI Engineer 2. Sneha Data analyst\n",
      "EMPID Name salary 123abc 10 Def 23 Efg 3345 Hij 345 Klm 345 Nop 6 Qrs 3 Tuv 3 Wxy 46 Zab 555 Cde 5 Fgh 577 Ijk 347 Lmn 3456 Opq 44 Rst 3455 Uvw 66 Xyz 345 abc 45676\n",
      "Sl. No. Name Role Virat Kohli Batsman Steve Smith Batsman Kane Williamson Batsman Joe Root Batsman Babar Azam Batsman Rohit Sharma Batsman David Warner Batsman AB de Villiers Batsman/Wicketkeeper Ben Stokes All-rounder Pat Cummins Bowler Jasprit Bumrah Bowler Kagiso Rabada Bowler Trent Boult Bowler Shaheen Afridi Bowler Marnus Labuschagne Batsman Rishabh Pant Batsman/Wicketkeeper Shakib Al Hasan All-rounder Ravindra Jadeja All-rounder Jason Holder All-rounder Quinton de Kock Batsman/Wicketkeeper KL Rahul Batsman Aaron Finch Batsman Jos Buttler Batsman/Wicketkeeper Shubman Gill Batsman Rashid Khan Bowler Andre Russell All-rounder Chris Gayle Batsman Faf du Plessis Batsman Mitchell Starc Bowler\n"
     ]
    }
   ],
   "source": [
    "for doc in docs:\n",
    "    if doc.metadata['category'] == 'Table':\n",
    "        print(doc.page_content)"
   ]
  },
  {
   "cell_type": "markdown",
   "metadata": {},
   "source": [
    "Creating embddings using nomic-text-embed"
   ]
  },
  {
   "cell_type": "code",
   "execution_count": 109,
   "metadata": {},
   "outputs": [],
   "source": [
    "from langchain_community.embeddings import OllamaEmbeddings\n",
    "embeddings = (\n",
    "    OllamaEmbeddings(model='nomic-embed-text')\n",
    ")"
   ]
  },
  {
   "cell_type": "code",
   "execution_count": 79,
   "metadata": {},
   "outputs": [],
   "source": [
    "# from langchain_community.embeddings import OllamaEmbeddings\n",
    "# from langchain_chroma import Chroma\n",
    "\n",
    "\n",
    "# embeddings = (\n",
    "#     OllamaEmbeddings(model='nomic-embed-text')\n",
    "# )\n",
    "# db2 = Chroma.from_documents(\n",
    "#     docs, \n",
    "#     embeddings, \n",
    "#     persist_directory=\"./chroma_db\"\n",
    "# )"
   ]
  },
  {
   "cell_type": "code",
   "execution_count": 110,
   "metadata": {},
   "outputs": [],
   "source": [
    "from langchain_qdrant import QdrantVectorStore\n",
    "\n",
    "qdrant = QdrantVectorStore.from_documents(\n",
    "    docs,\n",
    "    embeddings,\n",
    "    path=\"./qdrant_db\",\n",
    "    collection_name=\"my_documents\",\n",
    ")"
   ]
  },
  {
   "cell_type": "code",
   "execution_count": 81,
   "metadata": {},
   "outputs": [],
   "source": [
    "# found_docs = qdrant.similarity_search(query)\n",
    "# for doc in found_docs:\n",
    "#     print(doc)"
   ]
  },
  {
   "cell_type": "code",
   "execution_count": 111,
   "metadata": {},
   "outputs": [],
   "source": [
    "from langchain_community.chat_models import ChatOllama\n",
    "from langchain_groq import ChatGroq"
   ]
  },
  {
   "cell_type": "code",
   "execution_count": 133,
   "metadata": {},
   "outputs": [],
   "source": [
    "# llm = ChatOllama(model='phi3:mini')\n",
    "llm = ChatOllama(model='llama3')\n",
    "# llm = ChatGroq(model = 'mixtral-8x7b-32768', api_key=get_key('.env', 'GROQ_API_KEY'))\n",
    "# llm = ChatGroq(model = 'llama3-8b-8192', api_key=get_key('.env', 'GROQ_API_KEY'))\n",
    "# llm = ChatGroq(model = 'llama3-70b-8192', api_key=get_key('.env', 'GROQ_API_KEY'))"
   ]
  },
  {
   "cell_type": "code",
   "execution_count": 113,
   "metadata": {},
   "outputs": [],
   "source": [
    "retriever = qdrant.as_retriever()"
   ]
  },
  {
   "cell_type": "code",
   "execution_count": 114,
   "metadata": {},
   "outputs": [],
   "source": [
    "query='who are the wicketkeepers from the document?'"
   ]
  },
  {
   "cell_type": "code",
   "execution_count": 135,
   "metadata": {},
   "outputs": [
    {
     "name": "stdout",
     "output_type": "stream",
     "text": [
      "<table>\n",
      "<thead>\n",
      "<tr><th style=\"text-align: right;\">  Sl. No</th><th>Name    </th><th>Role        </th></tr>\n",
      "</thead>\n",
      "<tbody>\n",
      "<tr><td style=\"text-align: right;\">       1</td><td>Karthick</td><td>AI Engineer </td></tr>\n",
      "<tr><td style=\"text-align: right;\">       2</td><td>Sneha   </td><td>Data analyst</td></tr>\n",
      "</tbody>\n",
      "</table>\n",
      "\n",
      "<table>\n",
      "<thead>\n",
      "<tr><th>Sl. No.  </th><th>Name              </th><th>Role                </th></tr>\n",
      "</thead>\n",
      "<tbody>\n",
      "<tr><td>         </td><td>Virat Kohli       </td><td>Batsman             </td></tr>\n",
      "<tr><td>         </td><td>Steve Smith       </td><td>Batsman             </td></tr>\n",
      "<tr><td>         </td><td>Kane Williamson   </td><td>Batsman             </td></tr>\n",
      "<tr><td>         </td><td>Joe Root          </td><td>Batsman             </td></tr>\n",
      "<tr><td>         </td><td>Babar Azam        </td><td>Batsman             </td></tr>\n",
      "<tr><td>         </td><td>Rohit Sharma      </td><td>Batsman             </td></tr>\n",
      "<tr><td>         </td><td>David Warner      </td><td>Batsman             </td></tr>\n",
      "<tr><td>         </td><td>AB de Villiers    </td><td>Batsman/Wicketkeeper</td></tr>\n",
      "<tr><td>         </td><td>Ben Stokes        </td><td>All-rounder         </td></tr>\n",
      "<tr><td>         </td><td>Pat Cummins       </td><td>Bowler              </td></tr>\n",
      "<tr><td>         </td><td>Jasprit Bumrah    </td><td>Bowler              </td></tr>\n",
      "<tr><td>         </td><td>Kagiso Rabada     </td><td>Bowler              </td></tr>\n",
      "<tr><td>         </td><td>Trent Boult       </td><td>Bowler              </td></tr>\n",
      "<tr><td>         </td><td>Shaheen Afridi    </td><td>Bowler              </td></tr>\n",
      "<tr><td>         </td><td>Marnus Labuschagne</td><td>Batsman             </td></tr>\n",
      "<tr><td>         </td><td>Rishabh Pant      </td><td>Batsman/Wicketkeeper</td></tr>\n",
      "<tr><td>         </td><td>Shakib Al Hasan   </td><td>All-rounder         </td></tr>\n",
      "<tr><td>         </td><td>Ravindra Jadeja   </td><td>All-rounder         </td></tr>\n",
      "<tr><td>         </td><td>Jason Holder      </td><td>All-rounder         </td></tr>\n",
      "<tr><td>         </td><td>Quinton de Kock   </td><td>Batsman/Wicketkeeper</td></tr>\n",
      "<tr><td>         </td><td>KL Rahul          </td><td>Batsman             </td></tr>\n",
      "<tr><td>         </td><td>Aaron Finch       </td><td>Batsman             </td></tr>\n",
      "<tr><td>         </td><td>Jos Buttler       </td><td>Batsman/Wicketkeeper</td></tr>\n",
      "<tr><td>         </td><td>Shubman Gill      </td><td>Batsman             </td></tr>\n",
      "<tr><td>         </td><td>Rashid Khan       </td><td>Bowler              </td></tr>\n",
      "<tr><td>         </td><td>Andre Russell     </td><td>All-rounder         </td></tr>\n",
      "<tr><td>         </td><td>Chris Gayle       </td><td>Batsman             </td></tr>\n",
      "<tr><td>         </td><td>Faf du Plessis    </td><td>Batsman             </td></tr>\n",
      "<tr><td>         </td><td>Mitchell Starc    </td><td>Bowler              </td></tr>\n",
      "</tbody>\n",
      "</table>\n",
      "\n",
      "This is some text below Table 1 to ensure it does not span multiple pages.\n",
      "\n",
      "This is some text below Table 3 to ensure it does not span multiple pages.\n"
     ]
    },
    {
     "data": {
      "text/plain": [
       "'Karthick is an AI Engineer, according to Table 1. Thanks for asking!'"
      ]
     },
     "execution_count": 135,
     "metadata": {},
     "output_type": "execute_result"
    }
   ],
   "source": [
    "from langchain_core.prompts import PromptTemplate\n",
    "from langchain_core.output_parsers import StrOutputParser\n",
    "from langchain_core.runnables import RunnablePassthrough\n",
    "\n",
    "def format_docs(docs):\n",
    "    formatted_docs = []\n",
    "    for doc in docs:\n",
    "        if doc.metadata['category'] == 'Table':\n",
    "            formatted_docs.append(doc.metadata['text_as_html'])\n",
    "        else:\n",
    "            formatted_docs.append(doc.page_content)\n",
    "    formatted_docs = \"\\n\\n\".join(formatted_docs)\n",
    "    print(formatted_docs)\n",
    "    return formatted_docs\n",
    "\n",
    "template = \"\"\"Use the following pieces of context to answer the question at the end.\n",
    "If you don't know the answer, just say that you don't know, don't try to make up an answer.\n",
    "Use three sentences maximum and keep the answer as concise as possible.\n",
    "Always say \"thanks for asking!\" at the end of the answer.\n",
    "\n",
    "{context}\n",
    "\n",
    "Question: {question}\n",
    "\n",
    "Helpful Answer:\"\"\"\n",
    "custom_rag_prompt = PromptTemplate.from_template(template)\n",
    "\n",
    "rag_chain = (\n",
    "    {\"context\": retriever | format_docs, \"question\": RunnablePassthrough()}\n",
    "    | custom_rag_prompt\n",
    "    | llm\n",
    "    | StrOutputParser()\n",
    ")\n",
    "\n",
    "rag_chain.invoke(\"Who is karthick?\")"
   ]
  },
  {
   "cell_type": "code",
   "execution_count": null,
   "metadata": {},
   "outputs": [],
   "source": [
    "# db3 = Chroma(persist_directory=\"./chroma_db\", embedding_function=embeddings)\n",
    "# docs = db3.similarity_search(query)\n",
    "# print(docs[0].page_content)"
   ]
  }
 ],
 "metadata": {
  "kernelspec": {
   "display_name": ".venv",
   "language": "python",
   "name": "python3"
  },
  "language_info": {
   "codemirror_mode": {
    "name": "ipython",
    "version": 3
   },
   "file_extension": ".py",
   "mimetype": "text/x-python",
   "name": "python",
   "nbconvert_exporter": "python",
   "pygments_lexer": "ipython3",
   "version": "3.10.12"
  }
 },
 "nbformat": 4,
 "nbformat_minor": 2
}
