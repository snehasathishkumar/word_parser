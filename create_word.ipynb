{
 "cells": [
  {
   "cell_type": "code",
   "execution_count": 1,
   "metadata": {},
   "outputs": [
    {
     "name": "stdout",
     "output_type": "stream",
     "text": [
      "Sample document created: sample_document.docx\n"
     ]
    }
   ],
   "source": [
    "from docx import Document\n",
    "from docx.shared import Pt\n",
    "from docx.oxml.ns import qn\n",
    "from docx.enum.text import WD_PARAGRAPH_ALIGNMENT\n",
    "\n",
    "def create_sample_document(file_path):\n",
    "    doc = Document()\n",
    "\n",
    "    # Title\n",
    "    doc.add_heading('Sample Document with Tables', level=1)\n",
    "    \n",
    "    # Add some text\n",
    "    doc.add_paragraph('This document contains sample tables for testing purposes.')\n",
    "\n",
    "    # Table 1 (Single page)\n",
    "    table1 = doc.add_table(rows=3, cols=3)\n",
    "    for row in table1.rows:\n",
    "        for cell in row.cells:\n",
    "            cell.text = 'Table 1'\n",
    "    \n",
    "    # Add some text below table 1\n",
    "    doc.add_paragraph('This is some text below Table 1 to ensure it does not span multiple pages.')\n",
    "    \n",
    "    # Add a page break\n",
    "    doc.add_page_break()\n",
    "\n",
    "    # Table 2 (Spans multiple pages)\n",
    "    table2 = doc.add_table(rows=20, cols=3)\n",
    "    for row in table2.rows:\n",
    "        for cell in row.cells:\n",
    "            cell.text = 'Table 2'\n",
    "    \n",
    "    # Add some text below table 2\n",
    "    doc.add_paragraph('This is some text below Table 2 to ensure it does not span multiple pages.')\n",
    "\n",
    "    # Add a page break\n",
    "    doc.add_page_break()\n",
    "\n",
    "    # Table 3 (Spans multiple pages)\n",
    "    table3 = doc.add_table(rows=30, cols=3)\n",
    "    for row in table3.rows:\n",
    "        for cell in row.cells:\n",
    "            cell.text = 'Table 3'\n",
    "    \n",
    "    # Add some text below table 3\n",
    "    doc.add_paragraph('This is some text below Table 3 to ensure it does not span multiple pages.')\n",
    "\n",
    "    # Save the document\n",
    "    doc.save(file_path)\n",
    "\n",
    "# Usage example\n",
    "file_path = 'sample_document.docx'\n",
    "create_sample_document(file_path)\n",
    "print(f'Sample document created: {file_path}')\n"
   ]
  }
 ],
 "metadata": {
  "kernelspec": {
   "display_name": ".venv",
   "language": "python",
   "name": "python3"
  },
  "language_info": {
   "codemirror_mode": {
    "name": "ipython",
    "version": 3
   },
   "file_extension": ".py",
   "mimetype": "text/x-python",
   "name": "python",
   "nbconvert_exporter": "python",
   "pygments_lexer": "ipython3",
   "version": "3.11.0"
  }
 },
 "nbformat": 4,
 "nbformat_minor": 2
}
