{
 "cells": [
  {
   "cell_type": "code",
   "execution_count": 3,
   "metadata": {},
   "outputs": [
    {
     "name": "stdout",
     "output_type": "stream",
     "text": [
      "[]\n"
     ]
    }
   ],
   "source": [
    "import json\n",
    "from docx import Document\n",
    "\n",
    "def is_text_below_table(table, paragraph):\n",
    "    \"\"\"Check if there is any text below the given table.\"\"\"\n",
    "    next_elem = table._element.getnext()\n",
    "    while next_elem is not None:\n",
    "        if next_elem.tag.endswith('p'):\n",
    "            if paragraph.text.strip() != \"\":\n",
    "                return True\n",
    "        next_elem = next_elem.getnext()\n",
    "    return False\n",
    "\n",
    "def extract_table_data(table):\n",
    "    \"\"\"Extract data from a single table.\"\"\"\n",
    "    data = []\n",
    "    keys = None\n",
    "    for i, row in enumerate(table.rows):\n",
    "        text = [cell.text.strip() for cell in row.cells]\n",
    "        if i == 0:\n",
    "            keys = text\n",
    "        else:\n",
    "            row_data = {keys[j]: text[j] for j in range(len(keys))}\n",
    "            data.append(row_data)\n",
    "    return data\n",
    "\n",
    "def merge_tables(doc):\n",
    "    \"\"\"Merge tables spanning multiple pages into a single JSON structure.\"\"\"\n",
    "    all_data = []\n",
    "    prev_table = None\n",
    "    \n",
    "    for paragraph in doc.paragraphs:\n",
    "        if paragraph._element.tag.endswith('tbl'):\n",
    "            table = paragraph._element\n",
    "            current_table = doc.tables[list(doc.element.body).index(table)]\n",
    "            table_data = extract_table_data(current_table)\n",
    "            \n",
    "            if prev_table is None:\n",
    "                prev_table = table_data\n",
    "            else:\n",
    "                prev_table.extend(table_data)\n",
    "            \n",
    "            if is_text_below_table(current_table, paragraph):\n",
    "                all_data.extend(prev_table)\n",
    "                prev_table = None\n",
    "        else:\n",
    "            if prev_table is not None:\n",
    "                all_data.extend(prev_table)\n",
    "                prev_table = None\n",
    "    \n",
    "    if prev_table is not None:\n",
    "        all_data.extend(prev_table)\n",
    "    \n",
    "    return all_data\n",
    "\n",
    "def tables_to_json(doc_path):\n",
    "    doc = Document(doc_path)\n",
    "    merged_data = merge_tables(doc)\n",
    "    json_data = json.dumps(merged_data, indent=4)\n",
    "    return json_data\n",
    "\n",
    "# Usage example\n",
    "doc_path = 'sample_document.docx'  # Replace with your document path\n",
    "json_output = tables_to_json(doc_path)\n",
    "\n",
    "# Print or save the JSON data\n",
    "print(json_output)\n",
    "\n",
    "# Optionally, save to a file\n",
    "with open('output.json', 'w') as f:\n",
    "    f.write(json_output)\n"
   ]
  }
 ],
 "metadata": {
  "kernelspec": {
   "display_name": ".venv",
   "language": "python",
   "name": "python3"
  },
  "language_info": {
   "codemirror_mode": {
    "name": "ipython",
    "version": 3
   },
   "file_extension": ".py",
   "mimetype": "text/x-python",
   "name": "python",
   "nbconvert_exporter": "python",
   "pygments_lexer": "ipython3",
   "version": "3.11.0"
  }
 },
 "nbformat": 4,
 "nbformat_minor": 2
}
